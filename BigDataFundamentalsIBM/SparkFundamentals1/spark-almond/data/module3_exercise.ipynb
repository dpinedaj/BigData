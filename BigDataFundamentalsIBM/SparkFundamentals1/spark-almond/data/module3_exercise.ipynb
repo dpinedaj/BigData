{
 "cells": [
  {
   "cell_type": "code",
   "execution_count": 1,
   "metadata": {},
   "outputs": [
    {
     "data": {
      "text/plain": [
       "\u001b[32mimport \u001b[39m\u001b[36m$ivy.$                                  \u001b[39m"
      ]
     },
     "execution_count": 1,
     "metadata": {},
     "output_type": "execute_result"
    }
   ],
   "source": [
    "import $ivy.`org.apache.spark::spark-sql:2.4.3`"
   ]
  },
  {
   "cell_type": "code",
   "execution_count": 6,
   "metadata": {},
   "outputs": [
    {
     "data": {
      "text/plain": [
       "\u001b[32mimport \u001b[39m\u001b[36mscala.math.random\n",
       "\u001b[39m\n",
       "\u001b[32mimport \u001b[39m\u001b[36morg.apache.spark._ \n",
       "\u001b[39m\n",
       "\u001b[32mimport \u001b[39m\u001b[36morg.apache.log4j.{Level, Logger}\n",
       "\u001b[39m"
      ]
     },
     "execution_count": 6,
     "metadata": {},
     "output_type": "execute_result"
    }
   ],
   "source": [
    "import scala.math.random\n",
    "import org.apache.spark._ \n",
    "import org.apache.log4j.{Level, Logger}\n",
    "Logger.getLogger(\"org\").setLevel(Level.OFF)"
   ]
  },
  {
   "cell_type": "code",
   "execution_count": 7,
   "metadata": {},
   "outputs": [
    {
     "data": {
      "text/plain": [
       "defined \u001b[32mobject\u001b[39m \u001b[36mSparkPi\u001b[39m"
      ]
     },
     "execution_count": 7,
     "metadata": {},
     "output_type": "execute_result"
    }
   ],
   "source": [
    "/** Import the spark and math packages */ \n",
    "/** Computes an approximation to pi */ \n",
    "object SparkPi { \n",
    "    def run(args: Array[String]) { \n",
    "        /** Create the SparkConf object */ \n",
    "        val conf = new SparkConf().setAppName(\"Spark Pi\").setMaster(\"local[1]\")\n",
    "        /** Create the SparkContext */ \n",
    "        val spark = new SparkContext(conf)\n",
    "        try {\n",
    "        /** business logic to calculate Pi */ \n",
    "        val slices = if (args.length > 0) args(0).toInt else 2 \n",
    "        val n = math.min(100000L * slices, Int.MaxValue).toInt \n",
    "        // avoid overflow \n",
    "        val count = spark.parallelize(1 until n, slices).map { \n",
    "            i => \n",
    "            val x = random * 2 - 1                                          \n",
    "            val y = random * 2 - 1 \n",
    "            if (x*x + y*y < 1) 1 else 0 }.reduce(_ + _) \n",
    "        /** Printing the value of Pi */ \n",
    "        println(\"Pi is roughly \" + 4.0 * count / n) \n",
    "        /** Stop the SparkContext */ \n",
    "        } finally {\n",
    "        spark.stop() \n",
    "        }\n",
    "    } \n",
    "}"
   ]
  },
  {
   "cell_type": "code",
   "execution_count": 8,
   "metadata": {},
   "outputs": [
    {
     "name": "stdout",
     "output_type": "stream",
     "text": [
      "Pi is roughly 3.141687479674797\n"
     ]
    }
   ],
   "source": [
    "SparkPi.run(Array(\"123\"))"
   ]
  },
  {
   "cell_type": "code",
   "execution_count": null,
   "metadata": {},
   "outputs": [],
   "source": []
  }
 ],
 "metadata": {
  "kernelspec": {
   "display_name": "Scala 2.12",
   "language": "scala",
   "name": "scala212"
  },
  "language_info": {
   "codemirror_mode": "text/x-scala",
   "file_extension": ".sc",
   "mimetype": "text/x-scala",
   "name": "scala",
   "nbconvert_exporter": "script",
   "version": "2.12.12"
  }
 },
 "nbformat": 4,
 "nbformat_minor": 4
}
